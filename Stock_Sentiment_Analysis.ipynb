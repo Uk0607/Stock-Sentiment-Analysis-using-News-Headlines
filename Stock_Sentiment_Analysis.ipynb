{
  "cells": [
    {
      "cell_type": "markdown",
      "metadata": {
        "id": "6ZyCvaYGVtD3"
      },
      "source": [
        "## Stock Sentiment Analysis using News Headlines"
      ]
    },
    {
      "cell_type": "markdown",
      "metadata": {
        "id": "uMis9VvnVtD4"
      },
      "source": [
        "Importing and Preprocessing Data\n"
      ]
    },
    {
      "cell_type": "code",
      "execution_count": 1,
      "metadata": {
        "id": "mWTj1FTWVtD5"
      },
      "outputs": [],
      "source": [
        "#importing libraries\n",
        "import pandas as pd\n",
        "import numpy as np"
      ]
    },
    {
      "cell_type": "code",
      "execution_count": 2,
      "metadata": {
        "id": "_xHVwSKAVtD5"
      },
      "outputs": [],
      "source": [
        "df=pd.read_csv('Data.csv', encoding = \"ISO-8859-1\")  #importing the dataset,usage of encoding is important to read special characters from the dataset"
      ]
    },
    {
      "cell_type": "code",
      "execution_count": 3,
      "metadata": {
        "colab": {
          "base_uri": "https://localhost:8080/",
          "height": 803
        },
        "id": "DYB1t3MTVtD6",
        "outputId": "d50464e1-1bc3-40a9-cdb3-f43154db2b1e"
      },
      "outputs": [
        {
          "output_type": "execute_result",
          "data": {
            "text/plain": [
              "         Date  Label                                               Top1  \\\n",
              "0  2000-01-03      0  A 'hindrance to operations': extracts from the...   \n",
              "1  2000-01-04      0                                          Scorecard   \n",
              "2  2000-01-05      0                  Coventry caught on counter by Flo   \n",
              "3  2000-01-06      1                      Pilgrim knows how to progress   \n",
              "4  2000-01-07      1                               Hitches and Horlocks   \n",
              "\n",
              "                                 Top2  \\\n",
              "0                           Scorecard   \n",
              "1                 The best lake scene   \n",
              "2  United's rivals on the road to Rio   \n",
              "3                 Thatcher facing ban   \n",
              "4      Beckham off but United survive   \n",
              "\n",
              "                                            Top3  \\\n",
              "0                Hughes' instant hit buoys Blues   \n",
              "1                  Leader: German sleaze inquiry   \n",
              "2  Thatcher issues defence before trial by video   \n",
              "3        McIlroy calls for Irish fighting spirit   \n",
              "4                        Breast cancer screening   \n",
              "\n",
              "                                            Top4  \\\n",
              "0       Jack gets his skates on at ice-cold Alex   \n",
              "1                                  Cheerio, boyo   \n",
              "2  Police help Smith lay down the law at Everton   \n",
              "3                Leicester bin stadium blueprint   \n",
              "4                                    Alan Parker   \n",
              "\n",
              "                                          Top5  \\\n",
              "0       Chaos as Maracana builds up for United   \n",
              "1                     The main recommendations   \n",
              "2  Tale of Trautmann bears two more retellings   \n",
              "3               United braced for Mexican wave   \n",
              "4      Guardian readers: are you all whingers?   \n",
              "\n",
              "                                                Top6  \\\n",
              "0  Depleted Leicester prevail as Elliott spoils E...   \n",
              "1                             Has Cubie killed fees?   \n",
              "2                                England on the rack   \n",
              "3  Auntie back in fashion, even if the dress look...   \n",
              "4                                   Hollywood Beyond   \n",
              "\n",
              "                                              Top7  \\\n",
              "0                 Hungry Spurs sense rich pickings   \n",
              "1                           Has Cubie killed fees?   \n",
              "2  Pakistan retaliate with call for video of Walsh   \n",
              "3                    Shoaib appeal goes to the top   \n",
              "4                               Ashes and diamonds   \n",
              "\n",
              "                                                Top8  ...  \\\n",
              "0                  Gunners so wide of an easy target  ...   \n",
              "1                             Has Cubie killed fees?  ...   \n",
              "2               Cullinan continues his Cape monopoly  ...   \n",
              "3  Hussain hurt by 'shambles' but lays blame on e...  ...   \n",
              "4                   Whingers - a formidable minority  ...   \n",
              "\n",
              "                                               Top16  \\\n",
              "0           Flintoff injury piles on woe for England   \n",
              "1                               On the critical list   \n",
              "2                        South Melbourne (Australia)   \n",
              "3  Putin admits Yeltsin quit to give him a head s...   \n",
              "4                             Most everywhere:  UDIs   \n",
              "\n",
              "                                               Top17  \\\n",
              "0  Hunters threaten Jospin with new battle of the...   \n",
              "1                          The timing of their lives   \n",
              "2                                    Necaxa (Mexico)   \n",
              "3         BBC worst hit as digital TV begins to bite   \n",
              "4                       Most wanted:  Chloe lunettes   \n",
              "\n",
              "                                            Top18  \\\n",
              "0             Kohl's successor drawn into scandal   \n",
              "1                                     Dear doctor   \n",
              "2                             Real Madrid (Spain)   \n",
              "3                     How much can you pay for...   \n",
              "4  Return of the cane 'completely off the agenda'   \n",
              "\n",
              "                                               Top19  \\\n",
              "0               The difference between men and women   \n",
              "1  Irish court halts IRA man's extradition to Nor...   \n",
              "2                          Raja Casablanca (Morocco)   \n",
              "3                                 Christmas glitches   \n",
              "4                   From Sleepy Hollow to Greeneland   \n",
              "\n",
              "                                               Top20  \\\n",
              "0                Sara Denver, nurse turned solicitor   \n",
              "1  Burundi peace initiative fades after rebels re...   \n",
              "2                               Corinthians (Brazil)   \n",
              "3  Upending a table, Chopping a line and Scoring ...   \n",
              "4              Blunkett outlines vision for over 11s   \n",
              "\n",
              "                                               Top21  \\\n",
              "0     Diana's landmine crusade put Tories in a panic   \n",
              "1               PE points the way forward to the ECB   \n",
              "2                                 Tony's pet project   \n",
              "3   Scientific evidence 'unreliable', defence claims   \n",
              "4  Embattled Dobson attacks 'play now, pay later'...   \n",
              "\n",
              "                                               Top22  \\\n",
              "0  Yeltsin's resignation caught opposition flat-f...   \n",
              "1  Campaigners keep up pressure on Nazi war crime...   \n",
              "2                            Al Nassr (Saudi Arabia)   \n",
              "3     Fusco wins judicial review in extradition case   \n",
              "4                                  Doom and the Dome   \n",
              "\n",
              "                             Top23  \\\n",
              "0                 Russian roulette   \n",
              "1                   Jane Ratcliffe   \n",
              "2                Ideal Holmes show   \n",
              "3    Rebels thwart Russian advance   \n",
              "4  What is the north-south divide?   \n",
              "\n",
              "                                               Top24  \\\n",
              "0                                           Sold out   \n",
              "1  Yet more things you wouldn't know without the ...   \n",
              "2               Pinochet leaves hospital after tests   \n",
              "3               Blair orders shake-up of failing NHS   \n",
              "4                          Aitken released from jail   \n",
              "\n",
              "                          Top25  \n",
              "0            Recovering a title  \n",
              "1  Millennium bug fails to bite  \n",
              "2                  Useful links  \n",
              "3   Lessons of law's hard heart  \n",
              "4                    Gone aloft  \n",
              "\n",
              "[5 rows x 27 columns]"
            ],
            "text/html": [
              "\n",
              "  <div id=\"df-65c34a74-fbff-4669-8ef9-9481b3225f94\">\n",
              "    <div class=\"colab-df-container\">\n",
              "      <div>\n",
              "<style scoped>\n",
              "    .dataframe tbody tr th:only-of-type {\n",
              "        vertical-align: middle;\n",
              "    }\n",
              "\n",
              "    .dataframe tbody tr th {\n",
              "        vertical-align: top;\n",
              "    }\n",
              "\n",
              "    .dataframe thead th {\n",
              "        text-align: right;\n",
              "    }\n",
              "</style>\n",
              "<table border=\"1\" class=\"dataframe\">\n",
              "  <thead>\n",
              "    <tr style=\"text-align: right;\">\n",
              "      <th></th>\n",
              "      <th>Date</th>\n",
              "      <th>Label</th>\n",
              "      <th>Top1</th>\n",
              "      <th>Top2</th>\n",
              "      <th>Top3</th>\n",
              "      <th>Top4</th>\n",
              "      <th>Top5</th>\n",
              "      <th>Top6</th>\n",
              "      <th>Top7</th>\n",
              "      <th>Top8</th>\n",
              "      <th>...</th>\n",
              "      <th>Top16</th>\n",
              "      <th>Top17</th>\n",
              "      <th>Top18</th>\n",
              "      <th>Top19</th>\n",
              "      <th>Top20</th>\n",
              "      <th>Top21</th>\n",
              "      <th>Top22</th>\n",
              "      <th>Top23</th>\n",
              "      <th>Top24</th>\n",
              "      <th>Top25</th>\n",
              "    </tr>\n",
              "  </thead>\n",
              "  <tbody>\n",
              "    <tr>\n",
              "      <th>0</th>\n",
              "      <td>2000-01-03</td>\n",
              "      <td>0</td>\n",
              "      <td>A 'hindrance to operations': extracts from the...</td>\n",
              "      <td>Scorecard</td>\n",
              "      <td>Hughes' instant hit buoys Blues</td>\n",
              "      <td>Jack gets his skates on at ice-cold Alex</td>\n",
              "      <td>Chaos as Maracana builds up for United</td>\n",
              "      <td>Depleted Leicester prevail as Elliott spoils E...</td>\n",
              "      <td>Hungry Spurs sense rich pickings</td>\n",
              "      <td>Gunners so wide of an easy target</td>\n",
              "      <td>...</td>\n",
              "      <td>Flintoff injury piles on woe for England</td>\n",
              "      <td>Hunters threaten Jospin with new battle of the...</td>\n",
              "      <td>Kohl's successor drawn into scandal</td>\n",
              "      <td>The difference between men and women</td>\n",
              "      <td>Sara Denver, nurse turned solicitor</td>\n",
              "      <td>Diana's landmine crusade put Tories in a panic</td>\n",
              "      <td>Yeltsin's resignation caught opposition flat-f...</td>\n",
              "      <td>Russian roulette</td>\n",
              "      <td>Sold out</td>\n",
              "      <td>Recovering a title</td>\n",
              "    </tr>\n",
              "    <tr>\n",
              "      <th>1</th>\n",
              "      <td>2000-01-04</td>\n",
              "      <td>0</td>\n",
              "      <td>Scorecard</td>\n",
              "      <td>The best lake scene</td>\n",
              "      <td>Leader: German sleaze inquiry</td>\n",
              "      <td>Cheerio, boyo</td>\n",
              "      <td>The main recommendations</td>\n",
              "      <td>Has Cubie killed fees?</td>\n",
              "      <td>Has Cubie killed fees?</td>\n",
              "      <td>Has Cubie killed fees?</td>\n",
              "      <td>...</td>\n",
              "      <td>On the critical list</td>\n",
              "      <td>The timing of their lives</td>\n",
              "      <td>Dear doctor</td>\n",
              "      <td>Irish court halts IRA man's extradition to Nor...</td>\n",
              "      <td>Burundi peace initiative fades after rebels re...</td>\n",
              "      <td>PE points the way forward to the ECB</td>\n",
              "      <td>Campaigners keep up pressure on Nazi war crime...</td>\n",
              "      <td>Jane Ratcliffe</td>\n",
              "      <td>Yet more things you wouldn't know without the ...</td>\n",
              "      <td>Millennium bug fails to bite</td>\n",
              "    </tr>\n",
              "    <tr>\n",
              "      <th>2</th>\n",
              "      <td>2000-01-05</td>\n",
              "      <td>0</td>\n",
              "      <td>Coventry caught on counter by Flo</td>\n",
              "      <td>United's rivals on the road to Rio</td>\n",
              "      <td>Thatcher issues defence before trial by video</td>\n",
              "      <td>Police help Smith lay down the law at Everton</td>\n",
              "      <td>Tale of Trautmann bears two more retellings</td>\n",
              "      <td>England on the rack</td>\n",
              "      <td>Pakistan retaliate with call for video of Walsh</td>\n",
              "      <td>Cullinan continues his Cape monopoly</td>\n",
              "      <td>...</td>\n",
              "      <td>South Melbourne (Australia)</td>\n",
              "      <td>Necaxa (Mexico)</td>\n",
              "      <td>Real Madrid (Spain)</td>\n",
              "      <td>Raja Casablanca (Morocco)</td>\n",
              "      <td>Corinthians (Brazil)</td>\n",
              "      <td>Tony's pet project</td>\n",
              "      <td>Al Nassr (Saudi Arabia)</td>\n",
              "      <td>Ideal Holmes show</td>\n",
              "      <td>Pinochet leaves hospital after tests</td>\n",
              "      <td>Useful links</td>\n",
              "    </tr>\n",
              "    <tr>\n",
              "      <th>3</th>\n",
              "      <td>2000-01-06</td>\n",
              "      <td>1</td>\n",
              "      <td>Pilgrim knows how to progress</td>\n",
              "      <td>Thatcher facing ban</td>\n",
              "      <td>McIlroy calls for Irish fighting spirit</td>\n",
              "      <td>Leicester bin stadium blueprint</td>\n",
              "      <td>United braced for Mexican wave</td>\n",
              "      <td>Auntie back in fashion, even if the dress look...</td>\n",
              "      <td>Shoaib appeal goes to the top</td>\n",
              "      <td>Hussain hurt by 'shambles' but lays blame on e...</td>\n",
              "      <td>...</td>\n",
              "      <td>Putin admits Yeltsin quit to give him a head s...</td>\n",
              "      <td>BBC worst hit as digital TV begins to bite</td>\n",
              "      <td>How much can you pay for...</td>\n",
              "      <td>Christmas glitches</td>\n",
              "      <td>Upending a table, Chopping a line and Scoring ...</td>\n",
              "      <td>Scientific evidence 'unreliable', defence claims</td>\n",
              "      <td>Fusco wins judicial review in extradition case</td>\n",
              "      <td>Rebels thwart Russian advance</td>\n",
              "      <td>Blair orders shake-up of failing NHS</td>\n",
              "      <td>Lessons of law's hard heart</td>\n",
              "    </tr>\n",
              "    <tr>\n",
              "      <th>4</th>\n",
              "      <td>2000-01-07</td>\n",
              "      <td>1</td>\n",
              "      <td>Hitches and Horlocks</td>\n",
              "      <td>Beckham off but United survive</td>\n",
              "      <td>Breast cancer screening</td>\n",
              "      <td>Alan Parker</td>\n",
              "      <td>Guardian readers: are you all whingers?</td>\n",
              "      <td>Hollywood Beyond</td>\n",
              "      <td>Ashes and diamonds</td>\n",
              "      <td>Whingers - a formidable minority</td>\n",
              "      <td>...</td>\n",
              "      <td>Most everywhere:  UDIs</td>\n",
              "      <td>Most wanted:  Chloe lunettes</td>\n",
              "      <td>Return of the cane 'completely off the agenda'</td>\n",
              "      <td>From Sleepy Hollow to Greeneland</td>\n",
              "      <td>Blunkett outlines vision for over 11s</td>\n",
              "      <td>Embattled Dobson attacks 'play now, pay later'...</td>\n",
              "      <td>Doom and the Dome</td>\n",
              "      <td>What is the north-south divide?</td>\n",
              "      <td>Aitken released from jail</td>\n",
              "      <td>Gone aloft</td>\n",
              "    </tr>\n",
              "  </tbody>\n",
              "</table>\n",
              "<p>5 rows × 27 columns</p>\n",
              "</div>\n",
              "      <button class=\"colab-df-convert\" onclick=\"convertToInteractive('df-65c34a74-fbff-4669-8ef9-9481b3225f94')\"\n",
              "              title=\"Convert this dataframe to an interactive table.\"\n",
              "              style=\"display:none;\">\n",
              "        \n",
              "  <svg xmlns=\"http://www.w3.org/2000/svg\" height=\"24px\"viewBox=\"0 0 24 24\"\n",
              "       width=\"24px\">\n",
              "    <path d=\"M0 0h24v24H0V0z\" fill=\"none\"/>\n",
              "    <path d=\"M18.56 5.44l.94 2.06.94-2.06 2.06-.94-2.06-.94-.94-2.06-.94 2.06-2.06.94zm-11 1L8.5 8.5l.94-2.06 2.06-.94-2.06-.94L8.5 2.5l-.94 2.06-2.06.94zm10 10l.94 2.06.94-2.06 2.06-.94-2.06-.94-.94-2.06-.94 2.06-2.06.94z\"/><path d=\"M17.41 7.96l-1.37-1.37c-.4-.4-.92-.59-1.43-.59-.52 0-1.04.2-1.43.59L10.3 9.45l-7.72 7.72c-.78.78-.78 2.05 0 2.83L4 21.41c.39.39.9.59 1.41.59.51 0 1.02-.2 1.41-.59l7.78-7.78 2.81-2.81c.8-.78.8-2.07 0-2.86zM5.41 20L4 18.59l7.72-7.72 1.47 1.35L5.41 20z\"/>\n",
              "  </svg>\n",
              "      </button>\n",
              "      \n",
              "  <style>\n",
              "    .colab-df-container {\n",
              "      display:flex;\n",
              "      flex-wrap:wrap;\n",
              "      gap: 12px;\n",
              "    }\n",
              "\n",
              "    .colab-df-convert {\n",
              "      background-color: #E8F0FE;\n",
              "      border: none;\n",
              "      border-radius: 50%;\n",
              "      cursor: pointer;\n",
              "      display: none;\n",
              "      fill: #1967D2;\n",
              "      height: 32px;\n",
              "      padding: 0 0 0 0;\n",
              "      width: 32px;\n",
              "    }\n",
              "\n",
              "    .colab-df-convert:hover {\n",
              "      background-color: #E2EBFA;\n",
              "      box-shadow: 0px 1px 2px rgba(60, 64, 67, 0.3), 0px 1px 3px 1px rgba(60, 64, 67, 0.15);\n",
              "      fill: #174EA6;\n",
              "    }\n",
              "\n",
              "    [theme=dark] .colab-df-convert {\n",
              "      background-color: #3B4455;\n",
              "      fill: #D2E3FC;\n",
              "    }\n",
              "\n",
              "    [theme=dark] .colab-df-convert:hover {\n",
              "      background-color: #434B5C;\n",
              "      box-shadow: 0px 1px 3px 1px rgba(0, 0, 0, 0.15);\n",
              "      filter: drop-shadow(0px 1px 2px rgba(0, 0, 0, 0.3));\n",
              "      fill: #FFFFFF;\n",
              "    }\n",
              "  </style>\n",
              "\n",
              "      <script>\n",
              "        const buttonEl =\n",
              "          document.querySelector('#df-65c34a74-fbff-4669-8ef9-9481b3225f94 button.colab-df-convert');\n",
              "        buttonEl.style.display =\n",
              "          google.colab.kernel.accessAllowed ? 'block' : 'none';\n",
              "\n",
              "        async function convertToInteractive(key) {\n",
              "          const element = document.querySelector('#df-65c34a74-fbff-4669-8ef9-9481b3225f94');\n",
              "          const dataTable =\n",
              "            await google.colab.kernel.invokeFunction('convertToInteractive',\n",
              "                                                     [key], {});\n",
              "          if (!dataTable) return;\n",
              "\n",
              "          const docLinkHtml = 'Like what you see? Visit the ' +\n",
              "            '<a target=\"_blank\" href=https://colab.research.google.com/notebooks/data_table.ipynb>data table notebook</a>'\n",
              "            + ' to learn more about interactive tables.';\n",
              "          element.innerHTML = '';\n",
              "          dataTable['output_type'] = 'display_data';\n",
              "          await google.colab.output.renderOutput(dataTable, element);\n",
              "          const docLink = document.createElement('div');\n",
              "          docLink.innerHTML = docLinkHtml;\n",
              "          element.appendChild(docLink);\n",
              "        }\n",
              "      </script>\n",
              "    </div>\n",
              "  </div>\n",
              "  "
            ]
          },
          "metadata": {},
          "execution_count": 3
        }
      ],
      "source": [
        "df.head()"
      ]
    },
    {
      "cell_type": "code",
      "execution_count": 4,
      "metadata": {
        "id": "pXAwHHVCVtD6"
      },
      "outputs": [],
      "source": [
        "train = df[df['Date'] < '20150101']\n",
        "test = df[df['Date'] > '20141231']     #splitting data into training and testing set"
      ]
    },
    {
      "cell_type": "code",
      "execution_count": 5,
      "metadata": {
        "colab": {
          "base_uri": "https://localhost:8080/",
          "height": 820
        },
        "id": "-KUDIzvOVtD7",
        "outputId": "5b14ee42-d7f0-401a-8fbe-e72b54f39d40"
      },
      "outputs": [
        {
          "output_type": "execute_result",
          "data": {
            "text/plain": [
              "                                                   0  \\\n",
              "0  A  hindrance to operations   extracts from the...   \n",
              "1                                          Scorecard   \n",
              "2                  Coventry caught on counter by Flo   \n",
              "3                      Pilgrim knows how to progress   \n",
              "4                               Hitches and Horlocks   \n",
              "\n",
              "                                    1  \\\n",
              "0                           Scorecard   \n",
              "1                 The best lake scene   \n",
              "2  United s rivals on the road to Rio   \n",
              "3                 Thatcher facing ban   \n",
              "4      Beckham off but United survive   \n",
              "\n",
              "                                               2  \\\n",
              "0                Hughes  instant hit buoys Blues   \n",
              "1                  Leader  German sleaze inquiry   \n",
              "2  Thatcher issues defence before trial by video   \n",
              "3        McIlroy calls for Irish fighting spirit   \n",
              "4                        Breast cancer screening   \n",
              "\n",
              "                                               3  \\\n",
              "0       Jack gets his skates on at ice cold Alex   \n",
              "1                                  Cheerio  boyo   \n",
              "2  Police help Smith lay down the law at Everton   \n",
              "3                Leicester bin stadium blueprint   \n",
              "4                                    Alan Parker   \n",
              "\n",
              "                                             4  \\\n",
              "0       Chaos as Maracana builds up for United   \n",
              "1                     The main recommendations   \n",
              "2  Tale of Trautmann bears two more retellings   \n",
              "3               United braced for Mexican wave   \n",
              "4      Guardian readers  are you all whingers    \n",
              "\n",
              "                                                   5  \\\n",
              "0  Depleted Leicester prevail as Elliott spoils E...   \n",
              "1                             Has Cubie killed fees    \n",
              "2                                England on the rack   \n",
              "3  Auntie back in fashion  even if the dress look...   \n",
              "4                                   Hollywood Beyond   \n",
              "\n",
              "                                                 6  \\\n",
              "0                 Hungry Spurs sense rich pickings   \n",
              "1                           Has Cubie killed fees    \n",
              "2  Pakistan retaliate with call for video of Walsh   \n",
              "3                    Shoaib appeal goes to the top   \n",
              "4                               Ashes and diamonds   \n",
              "\n",
              "                                                   7  \\\n",
              "0                  Gunners so wide of an easy target   \n",
              "1                             Has Cubie killed fees    \n",
              "2               Cullinan continues his Cape monopoly   \n",
              "3  Hussain hurt by  shambles  but lays blame on e...   \n",
              "4                   Whingers   a formidable minority   \n",
              "\n",
              "                                                   8  \\\n",
              "0      Derby raise a glass to Strupar s debut double   \n",
              "1  Hopkins  furious  at Foster s lack of Hannibal...   \n",
              "2             McGrath puts India out of their misery   \n",
              "3                      England s decade of disasters   \n",
              "4                             Alan Parker   part two   \n",
              "\n",
              "                                          9  ...  \\\n",
              "0  Southgate strikes  Leeds pay the penalty  ...   \n",
              "1                    Has Cubie killed fees   ...   \n",
              "2            Blair Witch bandwagon rolls on  ...   \n",
              "3      Revenge is sweet for jubilant Cronje  ...   \n",
              "4                 Thuggery  Toxins and Ties  ...   \n",
              "\n",
              "                                                  15  \\\n",
              "0           Flintoff injury piles on woe for England   \n",
              "1                               On the critical list   \n",
              "2                        South Melbourne  Australia    \n",
              "3  Putin admits Yeltsin quit to give him a head s...   \n",
              "4                             Most everywhere   UDIs   \n",
              "\n",
              "                                                  16  \\\n",
              "0  Hunters threaten Jospin with new battle of the...   \n",
              "1                          The timing of their lives   \n",
              "2                                    Necaxa  Mexico    \n",
              "3         BBC worst hit as digital TV begins to bite   \n",
              "4                       Most wanted   Chloe lunettes   \n",
              "\n",
              "                                               17  \\\n",
              "0             Kohl s successor drawn into scandal   \n",
              "1                                     Dear doctor   \n",
              "2                             Real Madrid  Spain    \n",
              "3                     How much can you pay for      \n",
              "4  Return of the cane  completely off the agenda    \n",
              "\n",
              "                                                  18  \\\n",
              "0               The difference between men and women   \n",
              "1  Irish court halts IRA man s extradition to Nor...   \n",
              "2                          Raja Casablanca  Morocco    \n",
              "3                                 Christmas glitches   \n",
              "4                   From Sleepy Hollow to Greeneland   \n",
              "\n",
              "                                                  19  \\\n",
              "0                Sara Denver  nurse turned solicitor   \n",
              "1  Burundi peace initiative fades after rebels re...   \n",
              "2                               Corinthians  Brazil    \n",
              "3  Upending a table  Chopping a line and Scoring ...   \n",
              "4              Blunkett outlines vision for over   s   \n",
              "\n",
              "                                                  20  \\\n",
              "0     Diana s landmine crusade put Tories in a panic   \n",
              "1               PE points the way forward to the ECB   \n",
              "2                                 Tony s pet project   \n",
              "3   Scientific evidence  unreliable   defence claims   \n",
              "4  Embattled Dobson attacks  play now  pay later ...   \n",
              "\n",
              "                                                  21  \\\n",
              "0  Yeltsin s resignation caught opposition flat f...   \n",
              "1  Campaigners keep up pressure on Nazi war crime...   \n",
              "2                            Al Nassr  Saudi Arabia    \n",
              "3     Fusco wins judicial review in extradition case   \n",
              "4                                  Doom and the Dome   \n",
              "\n",
              "                                22  \\\n",
              "0                 Russian roulette   \n",
              "1                   Jane Ratcliffe   \n",
              "2                Ideal Holmes show   \n",
              "3    Rebels thwart Russian advance   \n",
              "4  What is the north south divide    \n",
              "\n",
              "                                                  23  \\\n",
              "0                                           Sold out   \n",
              "1  Yet more things you wouldn t know without the ...   \n",
              "2               Pinochet leaves hospital after tests   \n",
              "3               Blair orders shake up of failing NHS   \n",
              "4                          Aitken released from jail   \n",
              "\n",
              "                             24  \n",
              "0            Recovering a title  \n",
              "1  Millennium bug fails to bite  \n",
              "2                  Useful links  \n",
              "3   Lessons of law s hard heart  \n",
              "4                    Gone aloft  \n",
              "\n",
              "[5 rows x 25 columns]"
            ],
            "text/html": [
              "\n",
              "  <div id=\"df-16d105dc-31a2-4603-a4ec-e1b577c8343d\">\n",
              "    <div class=\"colab-df-container\">\n",
              "      <div>\n",
              "<style scoped>\n",
              "    .dataframe tbody tr th:only-of-type {\n",
              "        vertical-align: middle;\n",
              "    }\n",
              "\n",
              "    .dataframe tbody tr th {\n",
              "        vertical-align: top;\n",
              "    }\n",
              "\n",
              "    .dataframe thead th {\n",
              "        text-align: right;\n",
              "    }\n",
              "</style>\n",
              "<table border=\"1\" class=\"dataframe\">\n",
              "  <thead>\n",
              "    <tr style=\"text-align: right;\">\n",
              "      <th></th>\n",
              "      <th>0</th>\n",
              "      <th>1</th>\n",
              "      <th>2</th>\n",
              "      <th>3</th>\n",
              "      <th>4</th>\n",
              "      <th>5</th>\n",
              "      <th>6</th>\n",
              "      <th>7</th>\n",
              "      <th>8</th>\n",
              "      <th>9</th>\n",
              "      <th>...</th>\n",
              "      <th>15</th>\n",
              "      <th>16</th>\n",
              "      <th>17</th>\n",
              "      <th>18</th>\n",
              "      <th>19</th>\n",
              "      <th>20</th>\n",
              "      <th>21</th>\n",
              "      <th>22</th>\n",
              "      <th>23</th>\n",
              "      <th>24</th>\n",
              "    </tr>\n",
              "  </thead>\n",
              "  <tbody>\n",
              "    <tr>\n",
              "      <th>0</th>\n",
              "      <td>A  hindrance to operations   extracts from the...</td>\n",
              "      <td>Scorecard</td>\n",
              "      <td>Hughes  instant hit buoys Blues</td>\n",
              "      <td>Jack gets his skates on at ice cold Alex</td>\n",
              "      <td>Chaos as Maracana builds up for United</td>\n",
              "      <td>Depleted Leicester prevail as Elliott spoils E...</td>\n",
              "      <td>Hungry Spurs sense rich pickings</td>\n",
              "      <td>Gunners so wide of an easy target</td>\n",
              "      <td>Derby raise a glass to Strupar s debut double</td>\n",
              "      <td>Southgate strikes  Leeds pay the penalty</td>\n",
              "      <td>...</td>\n",
              "      <td>Flintoff injury piles on woe for England</td>\n",
              "      <td>Hunters threaten Jospin with new battle of the...</td>\n",
              "      <td>Kohl s successor drawn into scandal</td>\n",
              "      <td>The difference between men and women</td>\n",
              "      <td>Sara Denver  nurse turned solicitor</td>\n",
              "      <td>Diana s landmine crusade put Tories in a panic</td>\n",
              "      <td>Yeltsin s resignation caught opposition flat f...</td>\n",
              "      <td>Russian roulette</td>\n",
              "      <td>Sold out</td>\n",
              "      <td>Recovering a title</td>\n",
              "    </tr>\n",
              "    <tr>\n",
              "      <th>1</th>\n",
              "      <td>Scorecard</td>\n",
              "      <td>The best lake scene</td>\n",
              "      <td>Leader  German sleaze inquiry</td>\n",
              "      <td>Cheerio  boyo</td>\n",
              "      <td>The main recommendations</td>\n",
              "      <td>Has Cubie killed fees</td>\n",
              "      <td>Has Cubie killed fees</td>\n",
              "      <td>Has Cubie killed fees</td>\n",
              "      <td>Hopkins  furious  at Foster s lack of Hannibal...</td>\n",
              "      <td>Has Cubie killed fees</td>\n",
              "      <td>...</td>\n",
              "      <td>On the critical list</td>\n",
              "      <td>The timing of their lives</td>\n",
              "      <td>Dear doctor</td>\n",
              "      <td>Irish court halts IRA man s extradition to Nor...</td>\n",
              "      <td>Burundi peace initiative fades after rebels re...</td>\n",
              "      <td>PE points the way forward to the ECB</td>\n",
              "      <td>Campaigners keep up pressure on Nazi war crime...</td>\n",
              "      <td>Jane Ratcliffe</td>\n",
              "      <td>Yet more things you wouldn t know without the ...</td>\n",
              "      <td>Millennium bug fails to bite</td>\n",
              "    </tr>\n",
              "    <tr>\n",
              "      <th>2</th>\n",
              "      <td>Coventry caught on counter by Flo</td>\n",
              "      <td>United s rivals on the road to Rio</td>\n",
              "      <td>Thatcher issues defence before trial by video</td>\n",
              "      <td>Police help Smith lay down the law at Everton</td>\n",
              "      <td>Tale of Trautmann bears two more retellings</td>\n",
              "      <td>England on the rack</td>\n",
              "      <td>Pakistan retaliate with call for video of Walsh</td>\n",
              "      <td>Cullinan continues his Cape monopoly</td>\n",
              "      <td>McGrath puts India out of their misery</td>\n",
              "      <td>Blair Witch bandwagon rolls on</td>\n",
              "      <td>...</td>\n",
              "      <td>South Melbourne  Australia</td>\n",
              "      <td>Necaxa  Mexico</td>\n",
              "      <td>Real Madrid  Spain</td>\n",
              "      <td>Raja Casablanca  Morocco</td>\n",
              "      <td>Corinthians  Brazil</td>\n",
              "      <td>Tony s pet project</td>\n",
              "      <td>Al Nassr  Saudi Arabia</td>\n",
              "      <td>Ideal Holmes show</td>\n",
              "      <td>Pinochet leaves hospital after tests</td>\n",
              "      <td>Useful links</td>\n",
              "    </tr>\n",
              "    <tr>\n",
              "      <th>3</th>\n",
              "      <td>Pilgrim knows how to progress</td>\n",
              "      <td>Thatcher facing ban</td>\n",
              "      <td>McIlroy calls for Irish fighting spirit</td>\n",
              "      <td>Leicester bin stadium blueprint</td>\n",
              "      <td>United braced for Mexican wave</td>\n",
              "      <td>Auntie back in fashion  even if the dress look...</td>\n",
              "      <td>Shoaib appeal goes to the top</td>\n",
              "      <td>Hussain hurt by  shambles  but lays blame on e...</td>\n",
              "      <td>England s decade of disasters</td>\n",
              "      <td>Revenge is sweet for jubilant Cronje</td>\n",
              "      <td>...</td>\n",
              "      <td>Putin admits Yeltsin quit to give him a head s...</td>\n",
              "      <td>BBC worst hit as digital TV begins to bite</td>\n",
              "      <td>How much can you pay for</td>\n",
              "      <td>Christmas glitches</td>\n",
              "      <td>Upending a table  Chopping a line and Scoring ...</td>\n",
              "      <td>Scientific evidence  unreliable   defence claims</td>\n",
              "      <td>Fusco wins judicial review in extradition case</td>\n",
              "      <td>Rebels thwart Russian advance</td>\n",
              "      <td>Blair orders shake up of failing NHS</td>\n",
              "      <td>Lessons of law s hard heart</td>\n",
              "    </tr>\n",
              "    <tr>\n",
              "      <th>4</th>\n",
              "      <td>Hitches and Horlocks</td>\n",
              "      <td>Beckham off but United survive</td>\n",
              "      <td>Breast cancer screening</td>\n",
              "      <td>Alan Parker</td>\n",
              "      <td>Guardian readers  are you all whingers</td>\n",
              "      <td>Hollywood Beyond</td>\n",
              "      <td>Ashes and diamonds</td>\n",
              "      <td>Whingers   a formidable minority</td>\n",
              "      <td>Alan Parker   part two</td>\n",
              "      <td>Thuggery  Toxins and Ties</td>\n",
              "      <td>...</td>\n",
              "      <td>Most everywhere   UDIs</td>\n",
              "      <td>Most wanted   Chloe lunettes</td>\n",
              "      <td>Return of the cane  completely off the agenda</td>\n",
              "      <td>From Sleepy Hollow to Greeneland</td>\n",
              "      <td>Blunkett outlines vision for over   s</td>\n",
              "      <td>Embattled Dobson attacks  play now  pay later ...</td>\n",
              "      <td>Doom and the Dome</td>\n",
              "      <td>What is the north south divide</td>\n",
              "      <td>Aitken released from jail</td>\n",
              "      <td>Gone aloft</td>\n",
              "    </tr>\n",
              "  </tbody>\n",
              "</table>\n",
              "<p>5 rows × 25 columns</p>\n",
              "</div>\n",
              "      <button class=\"colab-df-convert\" onclick=\"convertToInteractive('df-16d105dc-31a2-4603-a4ec-e1b577c8343d')\"\n",
              "              title=\"Convert this dataframe to an interactive table.\"\n",
              "              style=\"display:none;\">\n",
              "        \n",
              "  <svg xmlns=\"http://www.w3.org/2000/svg\" height=\"24px\"viewBox=\"0 0 24 24\"\n",
              "       width=\"24px\">\n",
              "    <path d=\"M0 0h24v24H0V0z\" fill=\"none\"/>\n",
              "    <path d=\"M18.56 5.44l.94 2.06.94-2.06 2.06-.94-2.06-.94-.94-2.06-.94 2.06-2.06.94zm-11 1L8.5 8.5l.94-2.06 2.06-.94-2.06-.94L8.5 2.5l-.94 2.06-2.06.94zm10 10l.94 2.06.94-2.06 2.06-.94-2.06-.94-.94-2.06-.94 2.06-2.06.94z\"/><path d=\"M17.41 7.96l-1.37-1.37c-.4-.4-.92-.59-1.43-.59-.52 0-1.04.2-1.43.59L10.3 9.45l-7.72 7.72c-.78.78-.78 2.05 0 2.83L4 21.41c.39.39.9.59 1.41.59.51 0 1.02-.2 1.41-.59l7.78-7.78 2.81-2.81c.8-.78.8-2.07 0-2.86zM5.41 20L4 18.59l7.72-7.72 1.47 1.35L5.41 20z\"/>\n",
              "  </svg>\n",
              "      </button>\n",
              "      \n",
              "  <style>\n",
              "    .colab-df-container {\n",
              "      display:flex;\n",
              "      flex-wrap:wrap;\n",
              "      gap: 12px;\n",
              "    }\n",
              "\n",
              "    .colab-df-convert {\n",
              "      background-color: #E8F0FE;\n",
              "      border: none;\n",
              "      border-radius: 50%;\n",
              "      cursor: pointer;\n",
              "      display: none;\n",
              "      fill: #1967D2;\n",
              "      height: 32px;\n",
              "      padding: 0 0 0 0;\n",
              "      width: 32px;\n",
              "    }\n",
              "\n",
              "    .colab-df-convert:hover {\n",
              "      background-color: #E2EBFA;\n",
              "      box-shadow: 0px 1px 2px rgba(60, 64, 67, 0.3), 0px 1px 3px 1px rgba(60, 64, 67, 0.15);\n",
              "      fill: #174EA6;\n",
              "    }\n",
              "\n",
              "    [theme=dark] .colab-df-convert {\n",
              "      background-color: #3B4455;\n",
              "      fill: #D2E3FC;\n",
              "    }\n",
              "\n",
              "    [theme=dark] .colab-df-convert:hover {\n",
              "      background-color: #434B5C;\n",
              "      box-shadow: 0px 1px 3px 1px rgba(0, 0, 0, 0.15);\n",
              "      filter: drop-shadow(0px 1px 2px rgba(0, 0, 0, 0.3));\n",
              "      fill: #FFFFFF;\n",
              "    }\n",
              "  </style>\n",
              "\n",
              "      <script>\n",
              "        const buttonEl =\n",
              "          document.querySelector('#df-16d105dc-31a2-4603-a4ec-e1b577c8343d button.colab-df-convert');\n",
              "        buttonEl.style.display =\n",
              "          google.colab.kernel.accessAllowed ? 'block' : 'none';\n",
              "\n",
              "        async function convertToInteractive(key) {\n",
              "          const element = document.querySelector('#df-16d105dc-31a2-4603-a4ec-e1b577c8343d');\n",
              "          const dataTable =\n",
              "            await google.colab.kernel.invokeFunction('convertToInteractive',\n",
              "                                                     [key], {});\n",
              "          if (!dataTable) return;\n",
              "\n",
              "          const docLinkHtml = 'Like what you see? Visit the ' +\n",
              "            '<a target=\"_blank\" href=https://colab.research.google.com/notebooks/data_table.ipynb>data table notebook</a>'\n",
              "            + ' to learn more about interactive tables.';\n",
              "          element.innerHTML = '';\n",
              "          dataTable['output_type'] = 'display_data';\n",
              "          await google.colab.output.renderOutput(dataTable, element);\n",
              "          const docLink = document.createElement('div');\n",
              "          docLink.innerHTML = docLinkHtml;\n",
              "          element.appendChild(docLink);\n",
              "        }\n",
              "      </script>\n",
              "    </div>\n",
              "  </div>\n",
              "  "
            ]
          },
          "metadata": {},
          "execution_count": 5
        }
      ],
      "source": [
        "# Removing punctuations\n",
        "data=train.iloc[:,2:27]\n",
        "data.replace(\"[^a-zA-Z]\",\" \",regex=True, inplace=True)\n",
        "\n",
        "# Renaming column names for ease of access\n",
        "list1= [i for i in range(25)]\n",
        "new_Index=[str(i) for i in list1]\n",
        "data.columns= new_Index\n",
        "data.head(5)\n",
        "\n"
      ]
    },
    {
      "cell_type": "code",
      "execution_count": 6,
      "metadata": {
        "scrolled": true,
        "colab": {
          "base_uri": "https://localhost:8080/",
          "height": 296
        },
        "id": "Cdq2VMELVtD7",
        "outputId": "5da01df2-4f42-4945-db2c-c91481a2cb10"
      },
      "outputs": [
        {
          "output_type": "execute_result",
          "data": {
            "text/plain": [
              "                                                   0          1  \\\n",
              "0  a  hindrance to operations   extracts from the...  scorecard   \n",
              "\n",
              "                                 2                                         3  \\\n",
              "0  hughes  instant hit buoys blues  jack gets his skates on at ice cold alex   \n",
              "\n",
              "                                        4  \\\n",
              "0  chaos as maracana builds up for united   \n",
              "\n",
              "                                                   5  \\\n",
              "0  depleted leicester prevail as elliott spoils e...   \n",
              "\n",
              "                                  6                                  7  \\\n",
              "0  hungry spurs sense rich pickings  gunners so wide of an easy target   \n",
              "\n",
              "                                               8  \\\n",
              "0  derby raise a glass to strupar s debut double   \n",
              "\n",
              "                                          9  ...  \\\n",
              "0  southgate strikes  leeds pay the penalty  ...   \n",
              "\n",
              "                                         15  \\\n",
              "0  flintoff injury piles on woe for england   \n",
              "\n",
              "                                                  16  \\\n",
              "0  hunters threaten jospin with new battle of the...   \n",
              "\n",
              "                                    17                                    18  \\\n",
              "0  kohl s successor drawn into scandal  the difference between men and women   \n",
              "\n",
              "                                    19  \\\n",
              "0  sara denver  nurse turned solicitor   \n",
              "\n",
              "                                               20  \\\n",
              "0  diana s landmine crusade put tories in a panic   \n",
              "\n",
              "                                                  21                22  \\\n",
              "0  yeltsin s resignation caught opposition flat f...  russian roulette   \n",
              "\n",
              "         23                  24  \n",
              "0  sold out  recovering a title  \n",
              "\n",
              "[1 rows x 25 columns]"
            ],
            "text/html": [
              "\n",
              "  <div id=\"df-7031c430-55c4-4af6-9480-9203399be86f\">\n",
              "    <div class=\"colab-df-container\">\n",
              "      <div>\n",
              "<style scoped>\n",
              "    .dataframe tbody tr th:only-of-type {\n",
              "        vertical-align: middle;\n",
              "    }\n",
              "\n",
              "    .dataframe tbody tr th {\n",
              "        vertical-align: top;\n",
              "    }\n",
              "\n",
              "    .dataframe thead th {\n",
              "        text-align: right;\n",
              "    }\n",
              "</style>\n",
              "<table border=\"1\" class=\"dataframe\">\n",
              "  <thead>\n",
              "    <tr style=\"text-align: right;\">\n",
              "      <th></th>\n",
              "      <th>0</th>\n",
              "      <th>1</th>\n",
              "      <th>2</th>\n",
              "      <th>3</th>\n",
              "      <th>4</th>\n",
              "      <th>5</th>\n",
              "      <th>6</th>\n",
              "      <th>7</th>\n",
              "      <th>8</th>\n",
              "      <th>9</th>\n",
              "      <th>...</th>\n",
              "      <th>15</th>\n",
              "      <th>16</th>\n",
              "      <th>17</th>\n",
              "      <th>18</th>\n",
              "      <th>19</th>\n",
              "      <th>20</th>\n",
              "      <th>21</th>\n",
              "      <th>22</th>\n",
              "      <th>23</th>\n",
              "      <th>24</th>\n",
              "    </tr>\n",
              "  </thead>\n",
              "  <tbody>\n",
              "    <tr>\n",
              "      <th>0</th>\n",
              "      <td>a  hindrance to operations   extracts from the...</td>\n",
              "      <td>scorecard</td>\n",
              "      <td>hughes  instant hit buoys blues</td>\n",
              "      <td>jack gets his skates on at ice cold alex</td>\n",
              "      <td>chaos as maracana builds up for united</td>\n",
              "      <td>depleted leicester prevail as elliott spoils e...</td>\n",
              "      <td>hungry spurs sense rich pickings</td>\n",
              "      <td>gunners so wide of an easy target</td>\n",
              "      <td>derby raise a glass to strupar s debut double</td>\n",
              "      <td>southgate strikes  leeds pay the penalty</td>\n",
              "      <td>...</td>\n",
              "      <td>flintoff injury piles on woe for england</td>\n",
              "      <td>hunters threaten jospin with new battle of the...</td>\n",
              "      <td>kohl s successor drawn into scandal</td>\n",
              "      <td>the difference between men and women</td>\n",
              "      <td>sara denver  nurse turned solicitor</td>\n",
              "      <td>diana s landmine crusade put tories in a panic</td>\n",
              "      <td>yeltsin s resignation caught opposition flat f...</td>\n",
              "      <td>russian roulette</td>\n",
              "      <td>sold out</td>\n",
              "      <td>recovering a title</td>\n",
              "    </tr>\n",
              "  </tbody>\n",
              "</table>\n",
              "<p>1 rows × 25 columns</p>\n",
              "</div>\n",
              "      <button class=\"colab-df-convert\" onclick=\"convertToInteractive('df-7031c430-55c4-4af6-9480-9203399be86f')\"\n",
              "              title=\"Convert this dataframe to an interactive table.\"\n",
              "              style=\"display:none;\">\n",
              "        \n",
              "  <svg xmlns=\"http://www.w3.org/2000/svg\" height=\"24px\"viewBox=\"0 0 24 24\"\n",
              "       width=\"24px\">\n",
              "    <path d=\"M0 0h24v24H0V0z\" fill=\"none\"/>\n",
              "    <path d=\"M18.56 5.44l.94 2.06.94-2.06 2.06-.94-2.06-.94-.94-2.06-.94 2.06-2.06.94zm-11 1L8.5 8.5l.94-2.06 2.06-.94-2.06-.94L8.5 2.5l-.94 2.06-2.06.94zm10 10l.94 2.06.94-2.06 2.06-.94-2.06-.94-.94-2.06-.94 2.06-2.06.94z\"/><path d=\"M17.41 7.96l-1.37-1.37c-.4-.4-.92-.59-1.43-.59-.52 0-1.04.2-1.43.59L10.3 9.45l-7.72 7.72c-.78.78-.78 2.05 0 2.83L4 21.41c.39.39.9.59 1.41.59.51 0 1.02-.2 1.41-.59l7.78-7.78 2.81-2.81c.8-.78.8-2.07 0-2.86zM5.41 20L4 18.59l7.72-7.72 1.47 1.35L5.41 20z\"/>\n",
              "  </svg>\n",
              "      </button>\n",
              "      \n",
              "  <style>\n",
              "    .colab-df-container {\n",
              "      display:flex;\n",
              "      flex-wrap:wrap;\n",
              "      gap: 12px;\n",
              "    }\n",
              "\n",
              "    .colab-df-convert {\n",
              "      background-color: #E8F0FE;\n",
              "      border: none;\n",
              "      border-radius: 50%;\n",
              "      cursor: pointer;\n",
              "      display: none;\n",
              "      fill: #1967D2;\n",
              "      height: 32px;\n",
              "      padding: 0 0 0 0;\n",
              "      width: 32px;\n",
              "    }\n",
              "\n",
              "    .colab-df-convert:hover {\n",
              "      background-color: #E2EBFA;\n",
              "      box-shadow: 0px 1px 2px rgba(60, 64, 67, 0.3), 0px 1px 3px 1px rgba(60, 64, 67, 0.15);\n",
              "      fill: #174EA6;\n",
              "    }\n",
              "\n",
              "    [theme=dark] .colab-df-convert {\n",
              "      background-color: #3B4455;\n",
              "      fill: #D2E3FC;\n",
              "    }\n",
              "\n",
              "    [theme=dark] .colab-df-convert:hover {\n",
              "      background-color: #434B5C;\n",
              "      box-shadow: 0px 1px 3px 1px rgba(0, 0, 0, 0.15);\n",
              "      filter: drop-shadow(0px 1px 2px rgba(0, 0, 0, 0.3));\n",
              "      fill: #FFFFFF;\n",
              "    }\n",
              "  </style>\n",
              "\n",
              "      <script>\n",
              "        const buttonEl =\n",
              "          document.querySelector('#df-7031c430-55c4-4af6-9480-9203399be86f button.colab-df-convert');\n",
              "        buttonEl.style.display =\n",
              "          google.colab.kernel.accessAllowed ? 'block' : 'none';\n",
              "\n",
              "        async function convertToInteractive(key) {\n",
              "          const element = document.querySelector('#df-7031c430-55c4-4af6-9480-9203399be86f');\n",
              "          const dataTable =\n",
              "            await google.colab.kernel.invokeFunction('convertToInteractive',\n",
              "                                                     [key], {});\n",
              "          if (!dataTable) return;\n",
              "\n",
              "          const docLinkHtml = 'Like what you see? Visit the ' +\n",
              "            '<a target=\"_blank\" href=https://colab.research.google.com/notebooks/data_table.ipynb>data table notebook</a>'\n",
              "            + ' to learn more about interactive tables.';\n",
              "          element.innerHTML = '';\n",
              "          dataTable['output_type'] = 'display_data';\n",
              "          await google.colab.output.renderOutput(dataTable, element);\n",
              "          const docLink = document.createElement('div');\n",
              "          docLink.innerHTML = docLinkHtml;\n",
              "          element.appendChild(docLink);\n",
              "        }\n",
              "      </script>\n",
              "    </div>\n",
              "  </div>\n",
              "  "
            ]
          },
          "metadata": {},
          "execution_count": 6
        }
      ],
      "source": [
        "# Convertng headlines to lower case\n",
        "for index in new_Index:\n",
        "    data[index]=data[index].str.lower()\n",
        "data.head(1)"
      ]
    },
    {
      "cell_type": "code",
      "execution_count": 7,
      "metadata": {
        "colab": {
          "base_uri": "https://localhost:8080/",
          "height": 143
        },
        "id": "GuKpAPnzVtD8",
        "outputId": "2bbe93a5-23d0-4142-89a8-c80b6dc4852c"
      },
      "outputs": [
        {
          "output_type": "execute_result",
          "data": {
            "text/plain": [
              "'scorecard the best lake scene leader  german sleaze inquiry cheerio  boyo the main recommendations has cubie killed fees  has cubie killed fees  has cubie killed fees  hopkins  furious  at foster s lack of hannibal appetite has cubie killed fees  a tale of two tails i say what i like and i like what i say elbows  eyes and nipples task force to assess risk of asteroid collision how i found myself at last on the critical list the timing of their lives dear doctor irish court halts ira man s extradition to northern ireland burundi peace initiative fades after rebels reject mandela as mediator pe points the way forward to the ecb campaigners keep up pressure on nazi war crimes suspect jane ratcliffe yet more things you wouldn t know without the movies millennium bug fails to bite'"
            ],
            "application/vnd.google.colaboratory.intrinsic+json": {
              "type": "string"
            }
          },
          "metadata": {},
          "execution_count": 7
        }
      ],
      "source": [
        "' '.join(str(x) for x in data.iloc[1,0:25])  #combining all the headlines  into one paragraph with 'space' in between so that  it can be converted into vector"
      ]
    },
    {
      "cell_type": "code",
      "execution_count": 8,
      "metadata": {
        "id": "H5amD0tOVtD8"
      },
      "outputs": [],
      "source": [
        "headlines = []       #repeating similar steps for all records\n",
        "for row in range(0,len(data.index)):\n",
        "    headlines.append(' '.join(str(x) for x in data.iloc[row,0:25]))"
      ]
    },
    {
      "cell_type": "code",
      "execution_count": 9,
      "metadata": {
        "colab": {
          "base_uri": "https://localhost:8080/",
          "height": 160
        },
        "id": "p0jpmvrFVtD8",
        "outputId": "74355994-6d55-4032-8367-f4432e15ffff"
      },
      "outputs": [
        {
          "output_type": "execute_result",
          "data": {
            "text/plain": [
              "'a  hindrance to operations   extracts from the leaked reports scorecard hughes  instant hit buoys blues jack gets his skates on at ice cold alex chaos as maracana builds up for united depleted leicester prevail as elliott spoils everton s party hungry spurs sense rich pickings gunners so wide of an easy target derby raise a glass to strupar s debut double southgate strikes  leeds pay the penalty hammers hand robson a youthful lesson saints party like it s      wear wolves have turned into lambs stump mike catches testy gough s taunt langer escapes to hit     flintoff injury piles on woe for england hunters threaten jospin with new battle of the somme kohl s successor drawn into scandal the difference between men and women sara denver  nurse turned solicitor diana s landmine crusade put tories in a panic yeltsin s resignation caught opposition flat footed russian roulette sold out recovering a title'"
            ],
            "application/vnd.google.colaboratory.intrinsic+json": {
              "type": "string"
            }
          },
          "metadata": {},
          "execution_count": 9
        }
      ],
      "source": [
        "headlines[0]"
      ]
    },
    {
      "cell_type": "code",
      "execution_count": 10,
      "metadata": {
        "id": "Fwih8YMsVtD9"
      },
      "outputs": [],
      "source": [
        "## implement BAG OF WORDS (CountVectorizer)\n",
        "from sklearn.feature_extraction.text import CountVectorizer\n",
        "countvector=CountVectorizer(ngram_range=(2,2))\n",
        "traindataset=countvector.fit_transform(headlines)"
      ]
    },
    {
      "cell_type": "code",
      "execution_count": 11,
      "metadata": {
        "colab": {
          "base_uri": "https://localhost:8080/"
        },
        "id": "9givtSjDVtD9",
        "outputId": "5ac5f292-bd36-4629-f32b-868765b34e8b"
      },
      "outputs": [
        {
          "output_type": "execute_result",
          "data": {
            "text/plain": [
              "(3975, 584289)"
            ]
          },
          "metadata": {},
          "execution_count": 11
        }
      ],
      "source": [
        "traindataset.shape"
      ]
    },
    {
      "cell_type": "code",
      "execution_count": 12,
      "metadata": {
        "id": "6JyKco7GVtD9",
        "colab": {
          "base_uri": "https://localhost:8080/"
        },
        "outputId": "36823831-0284-41bf-e2d7-aca8fbbe523e"
      },
      "outputs": [
        {
          "output_type": "execute_result",
          "data": {
            "text/plain": [
              "RandomForestClassifier(criterion='entropy', n_estimators=200)"
            ]
          },
          "metadata": {},
          "execution_count": 12
        }
      ],
      "source": [
        "#implementing RandomForest Classifier\n",
        "from sklearn.ensemble import RandomForestClassifier\n",
        "randomclassifier=RandomForestClassifier(n_estimators=200,criterion='entropy')\n",
        "randomclassifier.fit(traindataset,train['Label'])"
      ]
    },
    {
      "cell_type": "code",
      "execution_count": 13,
      "metadata": {
        "id": "_iFIsUrVVtD_"
      },
      "outputs": [],
      "source": [
        "## Random Forest Prediction for the Test Dataset\n",
        "test_transform= []\n",
        "for row in range(0,len(test.index)):\n",
        "    test_transform.append(' '.join(str(x) for x in test.iloc[row,2:27]))\n",
        "test_dataset = countvector.transform(test_transform)\n",
        "predictions = randomclassifier.predict(test_dataset)"
      ]
    },
    {
      "cell_type": "code",
      "execution_count": 14,
      "metadata": {
        "id": "aql1OiayVtEA",
        "colab": {
          "base_uri": "https://localhost:8080/"
        },
        "outputId": "e444483e-6ccc-41c5-b0b7-944bf5765dee"
      },
      "outputs": [
        {
          "output_type": "stream",
          "name": "stdout",
          "text": [
            "[[139  47]\n",
            " [  7 185]]\n",
            "0.8571428571428571\n",
            "              precision    recall  f1-score   support\n",
            "\n",
            "           0       0.95      0.75      0.84       186\n",
            "           1       0.80      0.96      0.87       192\n",
            "\n",
            "    accuracy                           0.86       378\n",
            "   macro avg       0.87      0.86      0.85       378\n",
            "weighted avg       0.87      0.86      0.86       378\n",
            "\n"
          ]
        }
      ],
      "source": [
        "## Import library to check accuracy\n",
        "from sklearn.metrics import classification_report,confusion_matrix,accuracy_score\n",
        "#decision tree results\n",
        "matrix=confusion_matrix(test['Label'],predictions)\n",
        "print(matrix)\n",
        "score=accuracy_score(test['Label'],predictions)\n",
        "print(score)\n",
        "report=classification_report(test['Label'],predictions)\n",
        "print(report)\n",
        "\n"
      ]
    },
    {
      "cell_type": "code",
      "source": [
        "#implementing using TFIDF\n",
        "from sklearn.feature_extraction.text import TfidfVectorizer\n",
        "tfidvector=TfidfVectorizer(ngram_range=(2,2))\n",
        "traindataset_tf=tfidvector.fit_transform(headlines)"
      ],
      "metadata": {
        "id": "ULfTJ836uaat"
      },
      "execution_count": 15,
      "outputs": []
    },
    {
      "cell_type": "code",
      "execution_count": 16,
      "metadata": {
        "id": "HSIXBDC-VtD_",
        "colab": {
          "base_uri": "https://localhost:8080/"
        },
        "outputId": "1e0a1362-ac49-4712-b0cf-0c2eae4549f7"
      },
      "outputs": [
        {
          "output_type": "execute_result",
          "data": {
            "text/plain": [
              "RandomForestClassifier(criterion='entropy', n_estimators=200)"
            ]
          },
          "metadata": {},
          "execution_count": 16
        }
      ],
      "source": [
        "#re-implementing random forest classifier with TFIDF\n",
        "from sklearn.ensemble import RandomForestClassifier\n",
        "randomclassifier=RandomForestClassifier(n_estimators=200,criterion='entropy')\n",
        "randomclassifier.fit(traindataset_tf,train['Label'])"
      ]
    },
    {
      "cell_type": "code",
      "execution_count": 17,
      "metadata": {
        "id": "fTyJsZDaVtD_"
      },
      "outputs": [],
      "source": [
        "## Predict for the Test Dataset\n",
        "test_transform= []\n",
        "for row in range(0,len(test.index)):\n",
        "    test_transform.append(' '.join(str(x) for x in test.iloc[row,2:27]))\n",
        "test_dataset = tfidvector.transform(test_transform)\n",
        "predictions1 = randomclassifier.predict(test_dataset)"
      ]
    },
    {
      "cell_type": "code",
      "source": [
        "#random forest results for TFIDF\n",
        "\n",
        "from sklearn.metrics import classification_report,confusion_matrix,accuracy_score\n",
        "matrix=confusion_matrix(test['Label'],predictions1)\n",
        "print(matrix)\n",
        "score=accuracy_score(test['Label'],predictions1)\n",
        "print(score)\n",
        "report=classification_report(test['Label'],predictions1)                           \n",
        "print(report)"
      ],
      "metadata": {
        "colab": {
          "base_uri": "https://localhost:8080/"
        },
        "id": "HZ4YVPc0wmtQ",
        "outputId": "f51653a9-6d6e-4893-c1ba-ff4efc881de0"
      },
      "execution_count": 18,
      "outputs": [
        {
          "output_type": "stream",
          "name": "stdout",
          "text": [
            "[[147  39]\n",
            " [ 20 172]]\n",
            "0.843915343915344\n",
            "              precision    recall  f1-score   support\n",
            "\n",
            "           0       0.88      0.79      0.83       186\n",
            "           1       0.82      0.90      0.85       192\n",
            "\n",
            "    accuracy                           0.84       378\n",
            "   macro avg       0.85      0.84      0.84       378\n",
            "weighted avg       0.85      0.84      0.84       378\n",
            "\n"
          ]
        }
      ]
    },
    {
      "cell_type": "code",
      "source": [
        "#Using naive bayes with TFIDF\n",
        "from sklearn.naive_bayes import MultinomialNB\n",
        "naive=MultinomialNB()\n",
        "naive.fit(traindataset_tf,train['Label'])"
      ],
      "metadata": {
        "colab": {
          "base_uri": "https://localhost:8080/"
        },
        "id": "MTT3zQhBwm0H",
        "outputId": "749fa502-fff5-4ef6-f504-c994d4f82cb9"
      },
      "execution_count": 19,
      "outputs": [
        {
          "output_type": "execute_result",
          "data": {
            "text/plain": [
              "MultinomialNB()"
            ]
          },
          "metadata": {},
          "execution_count": 19
        }
      ]
    },
    {
      "cell_type": "code",
      "source": [
        "#prediction for test dataset\n",
        "test_transform= []\n",
        "for row in range(0,len(test.index)):\n",
        "    test_transform.append(' '.join(str(x) for x in test.iloc[row,2:27]))\n",
        "test_dataset = tfidvector.transform(test_transform)\n",
        "predictions2 = naive.predict(test_dataset)"
      ],
      "metadata": {
        "id": "ykGjTOvXwm3E"
      },
      "execution_count": 20,
      "outputs": []
    },
    {
      "cell_type": "code",
      "source": [
        "#Naive bayes classifier results with TFIDF\n",
        "from sklearn.metrics import classification_report,confusion_matrix,accuracy_score\n",
        "matrix=confusion_matrix(test['Label'],predictions2)\n",
        "print(matrix)\n",
        "score=accuracy_score(test['Label'],predictions2)\n",
        "print(score)\n",
        "report=classification_report(test['Label'],predictions2)                       \n",
        "print(report)"
      ],
      "metadata": {
        "colab": {
          "base_uri": "https://localhost:8080/"
        },
        "id": "feGbfycTwm5u",
        "outputId": "0717e603-7fdc-48f2-d82a-d0d041278abb"
      },
      "execution_count": 21,
      "outputs": [
        {
          "output_type": "stream",
          "name": "stdout",
          "text": [
            "[[130  56]\n",
            " [  0 192]]\n",
            "0.8518518518518519\n",
            "              precision    recall  f1-score   support\n",
            "\n",
            "           0       1.00      0.70      0.82       186\n",
            "           1       0.77      1.00      0.87       192\n",
            "\n",
            "    accuracy                           0.85       378\n",
            "   macro avg       0.89      0.85      0.85       378\n",
            "weighted avg       0.89      0.85      0.85       378\n",
            "\n"
          ]
        }
      ]
    },
    {
      "cell_type": "code",
      "source": [
        "#Gradient boosting Classifier\n",
        "from sklearn.ensemble import GradientBoostingClassifier\n",
        "XGB=GradientBoostingClassifier(n_estimators=270)\n",
        "XGB.fit(traindataset_tf,train['Label'])"
      ],
      "metadata": {
        "colab": {
          "base_uri": "https://localhost:8080/"
        },
        "id": "bCHZP04zwm8W",
        "outputId": "22fe9e9a-4a94-4335-a731-3ff3d9aa4f6e"
      },
      "execution_count": 22,
      "outputs": [
        {
          "output_type": "execute_result",
          "data": {
            "text/plain": [
              "GradientBoostingClassifier(n_estimators=270)"
            ]
          },
          "metadata": {},
          "execution_count": 22
        }
      ]
    },
    {
      "cell_type": "code",
      "source": [
        "#prediction for test dataset\n",
        "test_transform= []\n",
        "for row in range(0,len(test.index)):\n",
        "    test_transform.append(' '.join(str(x) for x in test.iloc[row,2:27]))\n",
        "test_dataset = tfidvector.transform(test_transform)\n",
        "predictions3 = XGB.predict(test_dataset)"
      ],
      "metadata": {
        "id": "FoK9qlfCwm-_"
      },
      "execution_count": 23,
      "outputs": []
    },
    {
      "cell_type": "code",
      "source": [
        "#Gradient boosting classifier with TFIDF\n",
        "from sklearn.metrics import classification_report,confusion_matrix,accuracy_score\n",
        "matrix=confusion_matrix(test['Label'],predictions3)\n",
        "print(matrix)\n",
        "score=accuracy_score(test['Label'],predictions3)\n",
        "print(score)\n",
        "report=classification_report(test['Label'],predictions3)                    \n",
        "print(report)"
      ],
      "metadata": {
        "colab": {
          "base_uri": "https://localhost:8080/"
        },
        "id": "Jf8tM9ThwnBn",
        "outputId": "a27d8295-e997-4405-9010-e1f3ca6b0bcc"
      },
      "execution_count": 24,
      "outputs": [
        {
          "output_type": "stream",
          "name": "stdout",
          "text": [
            "[[131  55]\n",
            " [ 36 156]]\n",
            "0.7592592592592593\n",
            "              precision    recall  f1-score   support\n",
            "\n",
            "           0       0.78      0.70      0.74       186\n",
            "           1       0.74      0.81      0.77       192\n",
            "\n",
            "    accuracy                           0.76       378\n",
            "   macro avg       0.76      0.76      0.76       378\n",
            "weighted avg       0.76      0.76      0.76       378\n",
            "\n"
          ]
        }
      ]
    },
    {
      "cell_type": "code",
      "source": [
        "#Adaboosting. Classifier\n",
        "from sklearn.ensemble import AdaBoostClassifier\n",
        "ADB=AdaBoostClassifier(n_estimators=270)\n",
        "ADB.fit(traindataset_tf,train['Label'])"
      ],
      "metadata": {
        "colab": {
          "base_uri": "https://localhost:8080/"
        },
        "id": "2yL1v6kbwnEV",
        "outputId": "6033aeaf-0378-4db5-d39c-be63d984a070"
      },
      "execution_count": 25,
      "outputs": [
        {
          "output_type": "execute_result",
          "data": {
            "text/plain": [
              "AdaBoostClassifier(n_estimators=270)"
            ]
          },
          "metadata": {},
          "execution_count": 25
        }
      ]
    },
    {
      "cell_type": "code",
      "source": [
        "#prediction for test dataset\n",
        "test_transform= []\n",
        "for row in range(0,len(test.index)):\n",
        "    test_transform.append(' '.join(str(x) for x in test.iloc[row,2:27]))\n",
        "test_dataset = tfidvector.transform(test_transform)\n",
        "predictions4 = ADB.predict(test_dataset)"
      ],
      "metadata": {
        "id": "NRjKzNMkwnGt"
      },
      "execution_count": 26,
      "outputs": []
    },
    {
      "cell_type": "code",
      "source": [
        "# Adaboosting results with TFIDF\n",
        "from sklearn.metrics import classification_report,confusion_matrix,accuracy_score\n",
        "matrix=confusion_matrix(test['Label'],predictions4)\n",
        "print(matrix)\n",
        "score=accuracy_score(test['Label'],predictions4)\n",
        "print(score)\n",
        "report=classification_report(test['Label'],predictions4)                         \n",
        "print(report)"
      ],
      "metadata": {
        "colab": {
          "base_uri": "https://localhost:8080/"
        },
        "id": "Ga6KHsWEwnJn",
        "outputId": "fff0b517-2e9a-4f37-9fee-55cfde4b0f02"
      },
      "execution_count": 27,
      "outputs": [
        {
          "output_type": "stream",
          "name": "stdout",
          "text": [
            "[[131  55]\n",
            " [ 48 144]]\n",
            "0.7275132275132276\n",
            "              precision    recall  f1-score   support\n",
            "\n",
            "           0       0.73      0.70      0.72       186\n",
            "           1       0.72      0.75      0.74       192\n",
            "\n",
            "    accuracy                           0.73       378\n",
            "   macro avg       0.73      0.73      0.73       378\n",
            "weighted avg       0.73      0.73      0.73       378\n",
            "\n"
          ]
        }
      ]
    },
    {
      "cell_type": "code",
      "source": [
        "#logistic regression\n",
        "from sklearn.linear_model import LogisticRegression\n",
        "logreg=LogisticRegression()\n",
        "logreg.fit(traindataset_tf,train['Label'])"
      ],
      "metadata": {
        "colab": {
          "base_uri": "https://localhost:8080/"
        },
        "id": "BpsvLgl_wnL-",
        "outputId": "f36a9f11-7800-4c6e-a0eb-4d984b2ac13f"
      },
      "execution_count": 28,
      "outputs": [
        {
          "output_type": "execute_result",
          "data": {
            "text/plain": [
              "LogisticRegression()"
            ]
          },
          "metadata": {},
          "execution_count": 28
        }
      ]
    },
    {
      "cell_type": "code",
      "source": [
        "#prediction for test dataset\n",
        "test_transform= []\n",
        "for row in range(0,len(test.index)):\n",
        "    test_transform.append(' '.join(str(x) for x in test.iloc[row,2:27]))\n",
        "test_dataset = tfidvector.transform(test_transform)\n",
        "predictions5 = logreg.predict(test_dataset)"
      ],
      "metadata": {
        "id": "M8_0PkrxwnOm"
      },
      "execution_count": 29,
      "outputs": []
    },
    {
      "cell_type": "code",
      "source": [
        "#Logistic regresson results with TFIDF\n",
        "from sklearn.metrics import classification_report,confusion_matrix,accuracy_score\n",
        "matrix=confusion_matrix(test['Label'],predictions5)\n",
        "print(matrix)\n",
        "score=accuracy_score(test['Label'],predictions5)\n",
        "print(score)\n",
        "report=classification_report(test['Label'],predictions5)                       \n",
        "print(report)"
      ],
      "metadata": {
        "colab": {
          "base_uri": "https://localhost:8080/"
        },
        "id": "1eCtJ9fswnRb",
        "outputId": "79ec05d8-53f3-4820-e7c7-21f1ddc7b187"
      },
      "execution_count": 30,
      "outputs": [
        {
          "output_type": "stream",
          "name": "stdout",
          "text": [
            "[[131  55]\n",
            " [  0 192]]\n",
            "0.8544973544973545\n",
            "              precision    recall  f1-score   support\n",
            "\n",
            "           0       1.00      0.70      0.83       186\n",
            "           1       0.78      1.00      0.87       192\n",
            "\n",
            "    accuracy                           0.85       378\n",
            "   macro avg       0.89      0.85      0.85       378\n",
            "weighted avg       0.89      0.85      0.85       378\n",
            "\n"
          ]
        }
      ]
    },
    {
      "cell_type": "code",
      "source": [
        "#K nearest neighbours\n",
        "from sklearn.neighbors import KNeighborsClassifier\n",
        "knc=KNeighborsClassifier(n_neighbors=15)\n",
        "knc.fit(traindataset_tf,train['Label'])"
      ],
      "metadata": {
        "colab": {
          "base_uri": "https://localhost:8080/"
        },
        "id": "M_Quw_HrwnUC",
        "outputId": "830ddb3c-bb18-4c6a-80f9-fc21e4ffc0ff"
      },
      "execution_count": 31,
      "outputs": [
        {
          "output_type": "execute_result",
          "data": {
            "text/plain": [
              "KNeighborsClassifier(n_neighbors=15)"
            ]
          },
          "metadata": {},
          "execution_count": 31
        }
      ]
    },
    {
      "cell_type": "code",
      "source": [
        "#predictions for test dataset\n",
        "test_transform= []\n",
        "for row in range(0,len(test.index)):\n",
        "    test_transform.append(' '.join(str(x) for x in test.iloc[row,2:27]))\n",
        "test_dataset = tfidvector.transform(test_transform)\n",
        "predictions6 = logreg.predict(test_dataset)"
      ],
      "metadata": {
        "id": "PN4wZFvZwnWe"
      },
      "execution_count": 32,
      "outputs": []
    },
    {
      "cell_type": "code",
      "source": [
        "##KNN results with  TFIDF\n",
        "from sklearn.metrics import classification_report,confusion_matrix,accuracy_score\n",
        "matrix=confusion_matrix(test['Label'],predictions6)\n",
        "print(matrix)\n",
        "score=accuracy_score(test['Label'],predictions6)\n",
        "print(score)\n",
        "report=classification_report(test['Label'],predictions6)                       \n",
        "print(report)"
      ],
      "metadata": {
        "colab": {
          "base_uri": "https://localhost:8080/"
        },
        "id": "SDfxIyYOwnZQ",
        "outputId": "f89e66e5-f2d8-458e-9ced-fb6b76bb509f"
      },
      "execution_count": 33,
      "outputs": [
        {
          "output_type": "stream",
          "name": "stdout",
          "text": [
            "[[131  55]\n",
            " [  0 192]]\n",
            "0.8544973544973545\n",
            "              precision    recall  f1-score   support\n",
            "\n",
            "           0       1.00      0.70      0.83       186\n",
            "           1       0.78      1.00      0.87       192\n",
            "\n",
            "    accuracy                           0.85       378\n",
            "   macro avg       0.89      0.85      0.85       378\n",
            "weighted avg       0.89      0.85      0.85       378\n",
            "\n"
          ]
        }
      ]
    },
    {
      "cell_type": "code",
      "source": [
        "#Implementing using Multi-layer Perceptron classifier \n",
        "from sklearn.neural_network import MLPClassifier\n",
        "MLP=MLPClassifier(hidden_layer_sizes=45)\n",
        "MLP.fit(traindataset_tf,train['Label'])"
      ],
      "metadata": {
        "colab": {
          "base_uri": "https://localhost:8080/"
        },
        "id": "QX8Bb1jNwncE",
        "outputId": "7d4c0286-40a7-46ce-8af1-691b9ed7dfb9"
      },
      "execution_count": 34,
      "outputs": [
        {
          "output_type": "execute_result",
          "data": {
            "text/plain": [
              "MLPClassifier(hidden_layer_sizes=45)"
            ]
          },
          "metadata": {},
          "execution_count": 34
        }
      ]
    },
    {
      "cell_type": "code",
      "source": [
        "#prediction for test dataset\n",
        "test_transform= []\n",
        "for row in range(0,len(test.index)):\n",
        "    test_transform.append(' '.join(str(x) for x in test.iloc[row,2:27]))\n",
        "test_dataset = tfidvector.transform(test_transform)\n",
        "predictions7 = MLP.predict(test_dataset)"
      ],
      "metadata": {
        "id": "gT6ADSxAwneu"
      },
      "execution_count": 35,
      "outputs": []
    },
    {
      "cell_type": "code",
      "source": [
        "##MLP results with TFIDF\n",
        "from sklearn.metrics import classification_report,confusion_matrix,accuracy_score\n",
        "matrix=confusion_matrix(test['Label'],predictions7)\n",
        "print(matrix)\n",
        "score=accuracy_score(test['Label'],predictions7)\n",
        "print(score)\n",
        "report=classification_report(test['Label'],predictions7)                     \n",
        "print(report)"
      ],
      "metadata": {
        "colab": {
          "base_uri": "https://localhost:8080/"
        },
        "id": "W_aNsgqbwnhk",
        "outputId": "7ad1827b-5f8a-46c8-cd25-2621a649d7e8"
      },
      "execution_count": 36,
      "outputs": [
        {
          "output_type": "stream",
          "name": "stdout",
          "text": [
            "[[147  39]\n",
            " [ 21 171]]\n",
            "0.8412698412698413\n",
            "              precision    recall  f1-score   support\n",
            "\n",
            "           0       0.88      0.79      0.83       186\n",
            "           1       0.81      0.89      0.85       192\n",
            "\n",
            "    accuracy                           0.84       378\n",
            "   macro avg       0.84      0.84      0.84       378\n",
            "weighted avg       0.84      0.84      0.84       378\n",
            "\n"
          ]
        }
      ]
    },
    {
      "cell_type": "code",
      "source": [],
      "metadata": {
        "id": "L4r2ilw6wnkG"
      },
      "execution_count": 36,
      "outputs": []
    }
  ],
  "metadata": {
    "kernelspec": {
      "display_name": "Python 3 (ipykernel)",
      "language": "python",
      "name": "python3"
    },
    "language_info": {
      "codemirror_mode": {
        "name": "ipython",
        "version": 3
      },
      "file_extension": ".py",
      "mimetype": "text/x-python",
      "name": "python",
      "nbconvert_exporter": "python",
      "pygments_lexer": "ipython3",
      "version": "3.9.7"
    },
    "colab": {
      "provenance": []
    },
    "gpuClass": "standard",
    "accelerator": "GPU"
  },
  "nbformat": 4,
  "nbformat_minor": 0
}